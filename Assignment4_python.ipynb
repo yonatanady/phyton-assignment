{
 "cells": [
  {
   "cell_type": "code",
   "execution_count": 1,
   "metadata": {},
   "outputs": [],
   "source": [
    "import glob\n",
    "import pandas\n",
    "import matplotlib.pyplot as plt\n",
    "import sys"
   ]
  },
  {
   "cell_type": "code",
   "execution_count": 2,
   "metadata": {},
   "outputs": [
    {
     "data": {
      "text/plain": [
       "380"
      ]
     },
     "execution_count": 2,
     "metadata": {},
     "output_type": "execute_result"
    }
   ],
   "source": [
    "f = open('nd2.fasta', 'r') \n",
    "sequence = f.readlines()\n",
    "len(sequence)\n",
    "#sequence[2]"
   ]
  },
  {
   "cell_type": "code",
   "execution_count": 3,
   "metadata": {},
   "outputs": [],
   "source": [
    "#to separate one fasta file into multiple fasta files with the filename = the header of the sequence\n",
    "infile = open('nd2.fasta', 'r')\n",
    "outfile = []\n",
    "\n",
    "for line in infile:\n",
    "    if line.startswith(\">\"):\n",
    "        if (outfile != []): outfile.close()\n",
    "        genename = line.strip().split('>')[1]\n",
    "        filename = genename+\".fasta\"\n",
    "        outfile = open(filename,'w')\n",
    "        outfile.write(line)\n",
    "    else:\n",
    "        outfile.write(line)\n",
    "outfile.close()"
   ]
  },
  {
   "cell_type": "code",
   "execution_count": null,
   "metadata": {},
   "outputs": [],
   "source": [
    "#For observed kmers\n",
    "f = open('Adelomyia_melanogenys.fasta', 'r')\n",
    "fasta = f.readlines()\n",
    "for k in range(1,len(fasta[1])):\n",
    "    counter = {}\n",
    "    for line_num,line in enumerate(fasta):   #go through each line of the fastq file\n",
    "        if line_num == 1:    #== is checking, = is assignment\n",
    "            line = line.rstrip() #remove newline \\n\n",
    "            for i,base in enumerate(line[:-k+1]): #no longer count base individually, slice it in pairs, \n",
    "                kmer = line[i:i+k]  #remember not inclusive\n",
    "                if kmer in counter:\n",
    "                    counter[kmer] += 1  #if kmer has already in the dictionary, add it\n",
    "                else:\n",
    "                    counter[kmer] = 1   #if kmer is not in dictionary, then define it\n",
    "    print(k,':',len(counter))"
   ]
  },
  {
   "cell_type": "code",
   "execution_count": 5,
   "metadata": {},
   "outputs": [
    {
     "data": {
      "text/plain": [
       "1048"
      ]
     },
     "execution_count": 5,
     "metadata": {},
     "output_type": "execute_result"
    }
   ],
   "source": [
    "f = open('Adelomyia_melanogenys.fasta', 'r')\n",
    "fasta = f.readlines()\n",
    "len(fasta[1])"
   ]
  },
  {
   "cell_type": "code",
   "execution_count": null,
   "metadata": {},
   "outputs": [],
   "source": [
    "#For possible kmers\n",
    "for k in range(1, len(fasta[1])):\n",
    "    #counter = {}\n",
    "    for line_num,line in enumerate(fasta):   #go through each line of the fastq file\n",
    "        if line_num == 1:    #== is checking, = is assignment\n",
    "            line = line.rstrip() #remove newline \\n\n",
    "            for i,base in enumerate(line[:-k+1]): #no longer count base individually, slice it in pairs, \n",
    "                #kmer = line[i:i+k]  #remember not inclusive\n",
    "                if 4**k < len(fasta[1]):\n",
    "                    pos = 4**k \n",
    "                else:\n",
    "                        #counter[kmer] = 1   #if kmer is not in dictionary, then define it\n",
    "                    pos = len(fasta[1]) - k + 1\n",
    "    print(k,':',pos)\n",
    "    \n",
    "#For possible kmers\n",
    "for k in range(1,len(fasta[1])+1):\n",
    "                if 4**k < len(fasta[1]):\n",
    "                    pos = 4**k\n",
    "                else:\n",
    "                    pos = len(fasta[1]) - k + 1\n",
    "                print(k,':',pos)"
   ]
  },
  {
   "cell_type": "code",
   "execution_count": null,
   "metadata": {},
   "outputs": [],
   "source": [
    "#TEST\n",
    "#To generate observed kmers\n",
    "for k in range(1,len(fasta[1])+1):\n",
    "    if k == 1:\n",
    "        counter = list(set(fasta[1].strip()))\n",
    "    elif k == 2:\n",
    "        counter = {}\n",
    "        for line_num,line in enumerate(fasta):   #go through each line of the fastq file\n",
    "            if line_num == 1:    #== is checking, = is assignment\n",
    "                line = line.rstrip() #remove newline \\n\n",
    "                for i,base in enumerate(line[:-k+1]): #no longer count base individually, slice it in pairs, \n",
    "                    kmer = line[i:i+k]  #remember not inclusive\n",
    "                    if kmer in counter:\n",
    "                        counter[kmer] += 1  #if kmer has already in the dictionary, add it\n",
    "                    else:\n",
    "                        counter[kmer] = 1\n",
    "    else:\n",
    "        counter = {}\n",
    "        for line_num,line in enumerate(fasta):   #go through each line of the fastq file\n",
    "            if line_num == 1:    #== is checking, = is assignment\n",
    "                line = line.rstrip() #remove newline \\n\n",
    "                for i,base in enumerate(line[:-k+2]): #no longer count base individually, slice it in pairs, \n",
    "                    kmer = line[i:i+k]  #remember not inclusive\n",
    "                    if kmer in counter:\n",
    "                        counter[kmer] += 1  #if kmer has already in the dictionary, add it\n",
    "                    else:\n",
    "                        counter[kmer] = 1   #if kmer is not in dictionary, then define it\n",
    "    print(k,':', len(counter))"
   ]
  },
  {
   "cell_type": "code",
   "execution_count": null,
   "metadata": {},
   "outputs": [],
   "source": [
    "#TEST\n",
    "#To generate observed kmers\n",
    "for k in range(1,len(fasta[1])+1):\n",
    "    if k == 1:\n",
    "        counter = list(set(fasta[1].strip()))\n",
    "    elif k == len(fasta[1]):\n",
    "        counter = 1\n",
    "    else:\n",
    "        counter = {}\n",
    "        for line_num,line in enumerate(fasta):   #go through each line of the fastq file\n",
    "            if line_num == 1:    #== is checking, = is assignment\n",
    "                line = line.rstrip() #remove newline \\n\n",
    "                for i,base in enumerate(line[:-k+1]): #no longer count base individually, slice it in pairs, \n",
    "                    kmer = line[i:i+k]  #remember not inclusive\n",
    "                    if kmer in counter:\n",
    "                        counter[kmer] += 1  #if kmer has already in the dictionary, add it\n",
    "                    else:\n",
    "                        counter[kmer] = 1   #if kmer is not in dictionary, then define it\n",
    "        print(k,':', len(counter))"
   ]
  }
 ],
 "metadata": {
  "kernelspec": {
   "display_name": "Python 3",
   "language": "python",
   "name": "python3"
  },
  "language_info": {
   "codemirror_mode": {
    "name": "ipython",
    "version": 3
   },
   "file_extension": ".py",
   "mimetype": "text/x-python",
   "name": "python",
   "nbconvert_exporter": "python",
   "pygments_lexer": "ipython3",
   "version": "3.6.4"
  }
 },
 "nbformat": 4,
 "nbformat_minor": 2
}
