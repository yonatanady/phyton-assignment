{
 "cells": [
  {
   "cell_type": "markdown",
   "metadata": {},
   "source": [
    "How to make a sequence object for a string, not a file: "
   ]
  },
  {
   "cell_type": "code",
   "execution_count": 2,
   "metadata": {},
   "outputs": [
    {
     "name": "stdout",
     "output_type": "stream",
     "text": [
      "{'A': 2, 'T': 5, 'C': 2, 'G': 2}\n",
      "Observed number of kmers:  4\n"
     ]
    }
   ],
   "source": [
    "import pandas\n",
    "import matplotlib.pyplot as plt\n",
    "\n",
    "#Part 1\n",
    "class Seq(object): #this is general so it can accept more than one sequence\n",
    "    def __init__(self,sequence):\n",
    "        self.sequence = sequence\n",
    "\n",
    "#Part 2\n",
    "    def count_kmers(self,k):\n",
    "        counter = {}\n",
    "        for i,base in enumerate(self.sequence): #go through the string and get position and base\n",
    "            kmer = self.sequence[i:i+k] #take a slice of the string to get the kmer\n",
    "            if kmer in counter:\n",
    "                counter[kmer] += 1 #if you run into it for a second time, add 1\n",
    "            else:\n",
    "                counter[kmer] = 1 #if you run into it for the first time its equal to 1\n",
    "        return(counter)\n",
    "\n",
    "mysequence = Seq(\"ATTTCCGGATT\")        \n",
    "print(mysequence.count_kmers(1))\n",
    "print('Observed number of kmers: ',len(mysequence.count_kmers(1)))\n"
   ]
  },
  {
   "cell_type": "code",
   "execution_count": null,
   "metadata": {},
   "outputs": [],
   "source": []
  }
 ],
 "metadata": {
  "kernelspec": {
   "display_name": "Python 3",
   "language": "python",
   "name": "python3"
  },
  "language_info": {
   "codemirror_mode": {
    "name": "ipython",
    "version": 3
   },
   "file_extension": ".py",
   "mimetype": "text/x-python",
   "name": "python",
   "nbconvert_exporter": "python",
   "pygments_lexer": "ipython3",
   "version": "3.6.4"
  }
 },
 "nbformat": 4,
 "nbformat_minor": 2
}
